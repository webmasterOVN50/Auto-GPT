{
  "nbformat": 4,
  "nbformat_minor": 0,
  "metadata": {
    "colab": {
      "provenance": [],
      "gpuType": "V28",
      "authorship_tag": "ABX9TyNSaB09Xt1CjtFRRBWQcVbZ",
      "include_colab_link": true
    },
    "kernelspec": {
      "name": "python3",
      "display_name": "Python 3"
    },
    "language_info": {
      "name": "python"
    },
    "accelerator": "TPU"
  },
  "cells": [
    {
      "cell_type": "markdown",
      "metadata": {
        "id": "view-in-github",
        "colab_type": "text"
      },
      "source": [
        "<a href=\"https://colab.research.google.com/github/webmasterOVN50/Auto-GPT/blob/master/Copy_of_MLserver.ipynb\" target=\"_parent\"><img src=\"https://colab.research.google.com/assets/colab-badge.svg\" alt=\"Open In Colab\"/></a>"
      ]
    },
    {
      "cell_type": "code",
      "execution_count": null,
      "metadata": {
        "colab": {
          "base_uri": "https://localhost:8080/"
        },
        "id": "F4ZvoCuZCibq",
        "outputId": "1f037d14-2ca2-4cd3-9428-224e6e9d94c7"
      },
      "outputs": [
        {
          "output_type": "stream",
          "name": "stdout",
          "text": [
            "\u001b[0m\u001b[35;1m↯ Downloading sshx from \u001b[4mhttps://s3.amazonaws.com/sshx/sshx-x86_64-unknown-linux-musl.tar.gz\u001b[0m\n",
            "  % Total    % Received % Xferd  Average Speed   Time    Time     Time  Current\n",
            "                                 Dload  Upload   Total   Spent    Left  Speed\n",
            "100 2971k  100 2971k    0     0  6667k      0 --:--:-- --:--:-- --:--:-- 6663k\n",
            "\n",
            "\u001b[0m\u001b[35;1m↯ Adding sshx binary to \u001b[4m/tmp/tmp.qFuXJv0HBM\u001b[0m\n",
            "\n",
            "\u001b[0m\u001b[35;1m↯ Done! You can now run sshx.\u001b[0m\n",
            "\n",
            "  \u001b[1;32msshx\u001b[0m \u001b[32mv0.2.5\u001b[0m\n",
            "\n",
            "  \u001b[32m➜\u001b[0m  Link:  \u001b[4;36mhttps://sshx.io/s/R88hRY6WfK#VO6xRneZIrSQgC\u001b[0m\n",
            "  \u001b[32m➜\u001b[0m  Shell: \u001b[38;5;8m/bin/bash\u001b[0m\n",
            "\n"
          ]
        }
      ],
      "source": [
        "!curl -sSf https://sshx.io/get | sh -s run\n"
      ]
    }
  ]
}